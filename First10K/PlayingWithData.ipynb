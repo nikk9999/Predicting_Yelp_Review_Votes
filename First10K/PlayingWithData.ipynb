{
 "cells": [
  {
   "cell_type": "markdown",
   "metadata": {},
   "source": [
    "# Experiments with Dataset"
   ]
  },
  {
   "cell_type": "code",
   "execution_count": 3,
   "metadata": {},
   "outputs": [
    {
     "data": {
      "image/png": "[encoded data removed]",
      "text/plain": [
       "<matplotlib.figure.Figure at 0x260cd770dd8>"
      ]
     },
     "metadata": {},
     "output_type": "display_data"
    },
    {
     "name": "stdout",
     "output_type": "stream",
     "text": [
      "The number of reviews with a total count of 0 is: 5108\n",
      "The number of reviews with a total count of 1 is: 1851\n",
      "The number of reviews with a total count of 2 is: 1005\n",
      "The number of reviews with a total count of 3 is: 694\n",
      "The number of reviews with a total count of 4 is: 385\n",
      "The number of reviews with a total count of 5 is: 253\n",
      "The number of reviews with a total count of 6 is: 184\n",
      "The number of reviews with a total count of 7 is: 131\n",
      "The number of reviews with a total count of 8 is: 87\n",
      "The number of reviews with a total count of 9 is: 57\n",
      "The number of reviews with a total count of 10 is: 45\n",
      "The number of reviews with a total count of 11 is: 28\n",
      "The number of reviews with a total count of 12 is: 26\n",
      "The number of reviews with a total count of 13 is: 26\n",
      "The number of reviews with a total count of 14 is: 11\n",
      "The number of reviews with a total count of 15 is: 20\n",
      "The number of reviews with a total count of 16 is: 17\n",
      "The number of reviews with a total count of 17 is: 10\n",
      "The number of reviews with a total count of 18 is: 10\n",
      "The number of reviews with a total count of 19 is: 4\n",
      "The number of reviews with a total count of 20 is: 2\n",
      "The number of reviews with a total count of 21 is: 1\n",
      "The number of reviews with a total count of 22 is: 3\n",
      "The number of reviews with a total count of 23 is: 6\n",
      "The number of reviews with a total count of 24 is: 6\n",
      "The number of reviews with a total count of 25 is: 4\n",
      "The number of reviews with a total count of 26 is: 4\n",
      "The number of reviews with a total count of 27 is: 3\n",
      "The number of reviews with a total count of 29 is: 1\n",
      "The number of reviews with a total count of 30 is: 2\n",
      "The number of reviews with a total count of 32 is: 1\n",
      "The number of reviews with a total count of 33 is: 1\n",
      "The number of reviews with a total count of 34 is: 1\n",
      "The number of reviews with a total count of 36 is: 1\n",
      "The number of reviews with a total count of 37 is: 1\n",
      "The number of reviews with a total count of 40 is: 3\n",
      "The number of reviews with a total count of 45 is: 1\n",
      "The number of reviews with a total count of 47 is: 1\n",
      "The number of reviews with a total count of 53 is: 1\n",
      "The number of reviews with a total count of 55 is: 1\n",
      "The number of reviews with a total count of 56 is: 1\n",
      "The number of reviews with a total count of 70 is: 1\n",
      "The number of reviews with a total count of 130 is: 1\n",
      "The number of reviews with a total count of 106 is: 1\n"
     ]
    }
   ],
   "source": [
    "#Referenced https://matplotlib.org/api/_as_gen/matplotlib.pyplot.hist.html\n",
    "#Referenced https://pandas.pydata.org/pandas-docs/stable/generated/pandas.read_json.html\n",
    "#Referenced https://stackoverflow.com/questions/16958430/matplotlib-histograms-and-labels\n",
    "\n",
    "import numpy as np\n",
    "import pandas as pd\n",
    "import matplotlib\n",
    "import matplotlib.pyplot as plt\n",
    "\n",
    "%matplotlib inline\n",
    "\n",
    "totalCounts = []\n",
    "for i in range(51):\n",
    "    data = pd.read_json(\"ReviewData/yelp_academic_dataset_review\" + str(i+1) + \".json\") #Read the appropriate file\n",
    "    #So we can find the distribution of each count\n",
    "    usefulCounts = data[\"useful\"]\n",
    "    funnyCounts = data[\"funny\"]\n",
    "    coolCounts = data[\"cool\"]\n",
    "    #Get a total of all the counts:\n",
    "    for i in range(len(usefulCounts)):\n",
    "        totalCounts.append(usefulCounts[i] + funnyCounts[i] + coolCounts[i])\n",
    "\n",
    "plt.hist(totalCounts, bins=sorted(list(set(totalCounts))))\n",
    "plt.title(\"Distribution of Total Counts for First 10K Reviews\")\n",
    "plt.xlabel(\"Total Count Value\")\n",
    "plt.ylabel(\"Number of Reviews\")\n",
    "plt.show()\n",
    "\n",
    "allCounts = list(set(totalCounts))\n",
    "reviewsWithEachCount = dict()\n",
    "for i in allCounts:\n",
    "    reviewsWithEachCount[i] = 0\n",
    "\n",
    "for i in allCounts:\n",
    "    for j in totalCounts:\n",
    "        if (j == i):\n",
    "            reviewsWithEachCount[i] = reviewsWithEachCount[i] + 1\n",
    "\n",
    "for i in reviewsWithEachCount.keys():\n",
    "    print(\"The number of reviews with a total count of \" + str(i) + \" is: \" + str(reviewsWithEachCount[i]))"
   ]
  },
  {
   "cell_type": "markdown",
   "metadata": {},
   "source": [
    "## Reading Business Data"
   ]
  },
  {
   "cell_type": "code",
   "execution_count": 4,
   "metadata": {},
   "outputs": [],
   "source": [
    "businessData = pd.read_json(\"YelpData/yelp_academic_dataset_business.json\", lines=True)\n",
    "#print(sorted(set(businessData[\"review_count\"])))"
   ]
  },
  {
   "cell_type": "code",
   "execution_count": 5,
   "metadata": {},
   "outputs": [],
   "source": [
    "#Referenced https://pandas.pydata.org/pandas-docs/stable/indexing.html\n",
    "#Referenced https://stackoverflow.com/questions/14639496/python-numpy-array-of-arbitrary-length-strings\n",
    "#Referenced https://docs.python.org/3/tutorial/datastructures.html\n",
    "#Referenced http://pandas.pydata.org/pandas-docs/stable/generated/pandas.DataFrame.html#pandas.DataFrame\n",
    "\n",
    "%matplotlib inline\n",
    "\n",
    "data = pd.read_json(\"ReviewData/yelp_academic_dataset_review1.json\") #Read the appropriate file\n",
    "\n",
    "#Create a list of useful columns\n",
    "columns = list(data.columns)\n",
    "columns.remove(\"business_id\")\n",
    "columns.remove(\"user_id\")\n",
    "columns.remove(\"review_id\")\n",
    "columns.remove(\"stars\")\n",
    "columns.remove(\"date\")\n",
    "\n",
    "trainData = np.ndarray(shape=(10000,len(columns)+2), dtype=object) #Include all given data, plus our classes\n",
    "offset = 0 #This is used to make sure we don't overwrite arrays\n",
    "threshold = 2 #Given review r with total count k, if k <= threshold, r is not influential\n",
    "\n",
    "for i in range(51):\n",
    "    data = pd.read_json(\"ReviewData/yelp_academic_dataset_review\" + str(i+1) + \".json\") #Read the appropriate file)\n",
    "    #So we can find the distribution of each count\n",
    "    usefulCounts = data[\"useful\"]\n",
    "    funnyCounts = data[\"funny\"]\n",
    "    coolCounts = data[\"cool\"]\n",
    "    #Now we create training data:\n",
    "    for j in range(len(usefulCounts)):\n",
    "        #First get the total count (which we want):\n",
    "        total = usefulCounts[j] + funnyCounts[j] + coolCounts[j]\n",
    "        for k in range(len(columns)): #Copy all existing data\n",
    "            trainData[j+offset,k] = data.loc[j,columns[k]]\n",
    "            \n",
    "        trainData[j+offset,len(columns)] = total #Now record the total count\n",
    "        \n",
    "        #Classify by total count:\n",
    "        if (total <= threshold): #If in the class of less influential reviews\n",
    "            trainData[j+offset,len(columns)+1] = False\n",
    "        else:\n",
    "            trainData[j+offset,len(columns)+1] = True\n",
    "            \n",
    "    #Update offset so as to not overwrite data:\n",
    "    offset = offset + len(usefulCounts)\n",
    "\n",
    "#Now prepare the final dataframe by first prepping the columns\n",
    "listOfFinalCols = columns.copy()\n",
    "listOfFinalCols.append(\"Total\")\n",
    "listOfFinalCols.append(\"Influential\")\n",
    "\n",
    "trainData = pd.DataFrame(data=trainData, columns=listOfFinalCols, dtype=object)\n",
    "#Now we've got training data for what we want to do!"
   ]
  },
  {
   "cell_type": "markdown",
   "metadata": {},
   "source": [
    "## Bag of Words Experiments"
   ]
  },
  {
   "cell_type": "code",
   "execution_count": 4,
   "metadata": {
    "collapsed": true
   },
   "outputs": [],
   "source": [
    "#Referenced http://scikit-learn.org/stable/modules/generated/sklearn.feature_extraction.text.CountVectorizer.html\n",
    "%matplotlib inline\n",
    "import sklearn.feature_extraction.text as txt\n",
    "import copy\n",
    "\n",
    "#In a bag of words, it makes sense to remove stopwords (as those are too common) and remove punctuation, as we are\n",
    "#looking mainly for the words, not random punctuation signs.\n",
    "#We remove these things from the text as well.\n",
    "\n",
    "text = trainData[\"text\"]\n",
    "\n",
    "for word in text[i].split(): #Every temp[i] is a sentence\n",
    "    for char in word:\n",
    "        if char in [\".\", \"?\", \",\"]:\n",
    "            text[i] = text[i].replace(char, \"\")\n",
    "                    \n",
    "wordsVect = txt.CountVectorizer(stop_words=\"english\")\n",
    "bagOfWordsTrain = wordsVect.fit_transform(text)"
   ]
  },
  {
   "cell_type": "markdown",
   "metadata": {},
   "source": [
    "### Naive Bayes for First 5k Reviews Using Bag of Words"
   ]
  },
  {
   "cell_type": "code",
   "execution_count": 34,
   "metadata": {},
   "outputs": [
    {
     "name": "stdout",
     "output_type": "stream",
     "text": [
      "Using 10-fold cross validation, we get the following accuracy scores: \n",
      "[ 0.48702595  0.4491018   0.45        0.484       0.49        0.458       0.506\n",
      "  0.482       0.46292585  0.43286573]\n",
      "Using 10-fold cross validation, we get the following precision scores: \n",
      "[ 0.14285714  0.20141343  0.164       0.18410042  0.20634921  0.172\n",
      "  0.23282443  0.1984127   0.18110236  0.16853933]\n",
      "Using 10-fold cross validation, we get the following recall scores: \n",
      "[ 0.28037383  0.53271028  0.38317757  0.41121495  0.48598131  0.40186916\n",
      "  0.57009346  0.46728972  0.43396226  0.4245283 ]\n"
     ]
    }
   ],
   "source": [
    "#Referenced http://scikit-learn.org/stable/modules/generated/sklearn.model_selection.cross_val_score.html\n",
    "#Referenced http://scikit-learn.org/stable/modules/generated/sklearn.naive_bayes.GaussianNB.html\n",
    "#Referenced http://scikit-learn.org/stable/modules/generated/sklearn.metrics.confusion_matrix.html\n",
    "\n",
    "%matplotlib inline\n",
    "from sklearn.naive_bayes import GaussianNB\n",
    "from sklearn.model_selection import cross_val_score\n",
    "from sklearn.preprocessing import LabelBinarizer\n",
    "from sklearn.metrics import confusion_matrix\n",
    "\n",
    "#Binarize the labels to more clearly define True positives and True negatives\n",
    "binarizer = LabelBinarizer(neg_label=False, pos_label=True)\n",
    "binarizer.fit(list(trainData[\"Influential\"]))\n",
    "newTargets = np.ndarray.flatten(binarizer.transform(list(trainData[\"Influential\"])))\n",
    "\n",
    "#Do a single fit on first 5k reviews\n",
    "naiveBayes = GaussianNB()\n",
    "# naiveBayes.fit(bagOfWordsTrain.toarray(), newTargets)\n",
    "# pred = naiveBayes.predict(bagOfWordsTrain.toarray()[:5000])\n",
    "# trueNeg, falsePos, falseNeg, truePos = confusion_matrix(newTargets[:5000], pred).ravel()\n",
    "# print(\"So the accuracy on the first 5k reviews is: \" + str(float(truePos+trueNeg)/(trueNeg+falsePos+falseNeg+truePos)))\n",
    "# print(\"So the precision on the first 5k reviews is: \" + str(float(truePos)/(falsePos+truePos)))\n",
    "# print(\"So the recall on the first 5k reviews is: \" + str(float(truePos)/(falseNeg+truePos)))\n",
    "\n",
    "#Get some feedback\n",
    "print (\"Using 10-fold cross validation, we get the following accuracy scores: \")\n",
    "print (cross_val_score(estimator=naiveBayes, X=bagOfWordsTrain.toarray()[:5000], y=newTargets[:5000], cv=10))\n",
    "\n",
    "print (\"Using 10-fold cross validation, we get the following precision scores: \")\n",
    "print (cross_val_score(estimator=naiveBayes, X=bagOfWordsTrain.toarray()[:5000], y=newTargets[:5000], cv=10, scoring=\"precision\"))\n",
    "\n",
    "print (\"Using 10-fold cross validation, we get the following recall scores: \")\n",
    "print (cross_val_score(estimator=naiveBayes, X=bagOfWordsTrain.toarray()[:5000], y=newTargets[:5000], cv=10, scoring=\"recall\"))"
   ]
  },
  {
   "cell_type": "markdown",
   "metadata": {
    "collapsed": true
   },
   "source": [
    "### Naive Bayes Using Last 5k Reviews Using Bag of Words"
   ]
  },
  {
   "cell_type": "code",
   "execution_count": 35,
   "metadata": {},
   "outputs": [
    {
     "name": "stdout",
     "output_type": "stream",
     "text": [
      "Using 10-fold cross validation, we get the following accuracy scores: \n",
      "[ 0.51896208  0.54091816  0.558       0.526       0.546       0.538       0.516\n",
      "  0.542       0.51703407  0.501002  ]\n",
      "Using 10-fold cross validation, we get the following precision scores: \n",
      "[ 0.17272727  0.14054054  0.17368421  0.1728972   0.17821782  0.17156863\n",
      "  0.1563981   0.16326531  0.11640212  0.14746544]\n",
      "Using 10-fold cross validation, we get the following recall scores: \n",
      "[ 0.39175258  0.26804124  0.34020619  0.3814433   0.37113402  0.36082474\n",
      "  0.34020619  0.32989691  0.22916667  0.33333333]\n"
     ]
    }
   ],
   "source": [
    "print (\"Using 10-fold cross validation, we get the following accuracy scores: \")\n",
    "print (cross_val_score(estimator=naiveBayes, X=bagOfWordsTrain.toarray()[5000:], y=newTargets[5000:], cv=10))\n",
    "\n",
    "print (\"Using 10-fold cross validation, we get the following precision scores: \")\n",
    "print (cross_val_score(estimator=naiveBayes, X=bagOfWordsTrain.toarray()[5000:], y=newTargets[5000:], cv=10, scoring=\"precision\"))\n",
    "\n",
    "print (\"Using 10-fold cross validation, we get the following recall scores: \")\n",
    "print (cross_val_score(estimator=naiveBayes, X=bagOfWordsTrain.toarray()[5000:], y=newTargets[5000:], cv=10, scoring=\"recall\"))"
   ]
  },
  {
   "cell_type": "markdown",
   "metadata": {},
   "source": [
    "### Random Forest for First 5k Reviews Using Bag of Words"
   ]
  },
  {
   "cell_type": "code",
   "execution_count": 36,
   "metadata": {},
   "outputs": [
    {
     "name": "stdout",
     "output_type": "stream",
     "text": [
      "Using 10-fold cross validation, we get the following accuracy scores: \n",
      "[ 0.79840319  0.77644711  0.788       0.786       0.774       0.78        0.788\n",
      "  0.782       0.78757515  0.77955912]\n",
      "Using 10-fold cross validation, we get the following precision scores: \n",
      "[ 0.5625      0.46153846  0.5         0.6         0.375       0.26666667\n",
      "  0.5         0.38461538  0.66666667  0.56      ]\n",
      "Using 10-fold cross validation, we get the following recall scores: \n",
      "[ 0.17757009  0.02803738  0.06542056  0.05607477  0.04672897  0.04672897\n",
      "  0.05607477  0.03738318  0.08490566  0.10377358]\n"
     ]
    }
   ],
   "source": [
    "#Referenced http://scikit-learn.org/stable/modules/generated/sklearn.ensemble.RandomForestClassifier.html\n",
    "#Referenced http://scikit-learn.org/stable/modules/generated/sklearn.metrics.confusion_matrix.html\n",
    "#Referenced http://scikit-learn.org/stable/modules/generated/sklearn.model_selection.cross_val_score.html\n",
    "\n",
    "from sklearn.ensemble import RandomForestClassifier\n",
    "from sklearn.model_selection import cross_val_score\n",
    "from sklearn.preprocessing import LabelBinarizer\n",
    "from sklearn.metrics import confusion_matrix\n",
    "\n",
    "#Binarize the labels to more clearly define True positives and True negatives\n",
    "binarizer = LabelBinarizer(neg_label=False, pos_label=True)\n",
    "binarizer.fit(list(trainData[\"Influential\"]))\n",
    "newTargets = np.ndarray.flatten(binarizer.transform(list(trainData[\"Influential\"])))\n",
    "\n",
    "#Do a single fit on first 5k reviews\n",
    "forest = RandomForestClassifier()\n",
    "# forest.fit(bagOfWordsTrain.toarray(), newTargets)\n",
    "# pred = forest.predict(bagOfWordsTrain.toarray()[:5000])\n",
    "# trueNeg, falsePos, falseNeg, truePos = confusion_matrix(newTargets[:5000], pred).ravel()\n",
    "# print(\"So the accuracy on the first 5k reviews is: \" + str(float(truePos+trueNeg)/(trueNeg+falsePos+falseNeg+truePos)))\n",
    "# print(\"So the precision on the first 5k reviews is: \" + str(float(truePos)/(falsePos+truePos)))\n",
    "# print(\"So the recall on the first 5k reviews is: \" + str(float(truePos)/(falseNeg+truePos)))\n",
    "\n",
    "print (\"Using 10-fold cross validation, we get the following accuracy scores: \")\n",
    "print (cross_val_score(estimator=forest, X=bagOfWordsTrain.toarray()[:5000], y=newTargets[:5000], cv=10))\n",
    "\n",
    "print (\"Using 10-fold cross validation, we get the following precision scores: \")\n",
    "print (cross_val_score(estimator=forest, X=bagOfWordsTrain.toarray()[:5000], y=newTargets[:5000], cv=10, scoring=\"precision\"))\n",
    "\n",
    "print (\"Using 10-fold cross validation, we get the following recall scores: \")\n",
    "print (cross_val_score(estimator=forest, X=bagOfWordsTrain.toarray()[:5000], y=newTargets[:5000], cv=10, scoring=\"recall\"))"
   ]
  },
  {
   "cell_type": "markdown",
   "metadata": {},
   "source": [
    "### Random Forest for Last 5k Reviews Using Bag of Words"
   ]
  },
  {
   "cell_type": "code",
   "execution_count": 37,
   "metadata": {},
   "outputs": [
    {
     "name": "stdout",
     "output_type": "stream",
     "text": [
      "Using 10-fold cross validation, we get the following accuracy scores: \n",
      "[ 0.79640719  0.80439122  0.8         0.806       0.808       0.798       0.812\n",
      "  0.796       0.81162325  0.80360721]\n",
      "Using 10-fold cross validation, we get the following precision scores: \n",
      "[ 0.41666667  0.45833333  0.09090909  0.5         0.6         0.58333333\n",
      "  0.4         0.33333333  0.46153846  0.41666667]\n",
      "Using 10-fold cross validation, we get the following recall scores: \n",
      "[ 0.04123711  0.08247423  0.02061856  0.04123711  0.04123711  0.02061856\n",
      "  0.03092784  0.08247423  0.0625      0.0625    ]\n"
     ]
    }
   ],
   "source": [
    "print (\"Using 10-fold cross validation, we get the following accuracy scores: \")\n",
    "print (cross_val_score(estimator=forest, X=bagOfWordsTrain.toarray()[5000:], y=newTargets[5000:], cv=10))\n",
    "\n",
    "print (\"Using 10-fold cross validation, we get the following precision scores: \")\n",
    "print (cross_val_score(estimator=forest, X=bagOfWordsTrain.toarray()[5000:], y=newTargets[5000:], cv=10, scoring=\"precision\"))\n",
    "\n",
    "print (\"Using 10-fold cross validation, we get the following recall scores: \")\n",
    "print (cross_val_score(estimator=forest, X=bagOfWordsTrain.toarray()[5000:], y=newTargets[5000:], cv=10, scoring=\"recall\"))"
   ]
  },
  {
   "cell_type": "markdown",
   "metadata": {},
   "source": [
    "### Logistic Regression for First 5k Reviews Using Bag of Words"
   ]
  },
  {
   "cell_type": "code",
   "execution_count": 38,
   "metadata": {},
   "outputs": [
    {
     "name": "stdout",
     "output_type": "stream",
     "text": [
      "Using 10-fold cross validation, we get the following accuracy scores: \n",
      "[ 0.77045908  0.75449102  0.756       0.736       0.738       0.742       0.752\n",
      "  0.754       0.77955912  0.75551102]\n",
      "Using 10-fold cross validation, we get the following precision scores: \n",
      "[ 0.45454545  0.38571429  0.4137931   0.29508197  0.25        0.31666667\n",
      "  0.33962264  0.32608696  0.46551724  0.35714286]\n",
      "Using 10-fold cross validation, we get the following recall scores: \n",
      "[ 0.37383178  0.25233645  0.3364486   0.1682243   0.11214953  0.17757009\n",
      "  0.1682243   0.14018692  0.25471698  0.18867925]\n"
     ]
    }
   ],
   "source": [
    "#Referenced http://scikit-learn.org/stable/modules/generated/sklearn.linear_model.LogisticRegression.html\n",
    "#Referenced http://scikit-learn.org/stable/modules/generated/sklearn.metrics.confusion_matrix.html\n",
    "#Referenced http://scikit-learn.org/stable/modules/generated/sklearn.model_selection.cross_val_score.html\n",
    "\n",
    "from sklearn.linear_model import LogisticRegression\n",
    "from sklearn.model_selection import cross_val_score\n",
    "from sklearn.preprocessing import LabelBinarizer\n",
    "from sklearn.metrics import confusion_matrix\n",
    "\n",
    "#Binarize the labels to more clearly define True positives and True negatives\n",
    "binarizer = LabelBinarizer(neg_label=False, pos_label=True)\n",
    "binarizer.fit(list(trainData[\"Influential\"]))\n",
    "newTargets = np.ndarray.flatten(binarizer.transform(list(trainData[\"Influential\"])))\n",
    "\n",
    "#Do a single fit on first 5k reviews\n",
    "regr = LogisticRegression()\n",
    "# regr.fit(bagOfWordsTrain.toarray(), newTargets)\n",
    "# pred = regr.predict(bagOfWordsTrain.toarray()[:5000])\n",
    "# trueNeg, falsePos, falseNeg, truePos = confusion_matrix(newTargets[:5000], pred).ravel()\n",
    "# print(\"So the accuracy on the first 5k reviews is: \" + str(float(truePos+trueNeg)/(trueNeg+falsePos+falseNeg+truePos)))\n",
    "# print(\"So the precision on the first 5k reviews is: \" + str(float(truePos)/(falsePos+truePos)))\n",
    "# print(\"So the recall on the first 5k reviews is: \" + str(float(truePos)/(falseNeg+truePos)))\n",
    "\n",
    "print (\"Using 10-fold cross validation, we get the following accuracy scores: \")\n",
    "print (cross_val_score(estimator=regr, X=bagOfWordsTrain.toarray()[:5000], y=newTargets[:5000], cv=10))\n",
    "\n",
    "print (\"Using 10-fold cross validation, we get the following precision scores: \")\n",
    "print (cross_val_score(estimator=regr, X=bagOfWordsTrain.toarray()[:5000], y=newTargets[:5000], cv=10, scoring=\"precision\"))\n",
    "\n",
    "print (\"Using 10-fold cross validation, we get the following recall scores: \")\n",
    "print (cross_val_score(estimator=regr, X=bagOfWordsTrain.toarray()[:5000], y=newTargets[:5000], cv=10, scoring=\"recall\"))"
   ]
  },
  {
   "cell_type": "markdown",
   "metadata": {},
   "source": [
    "### Logistic Regression for Last 5k Reviews Using Bag of Words"
   ]
  },
  {
   "cell_type": "code",
   "execution_count": 39,
   "metadata": {},
   "outputs": [
    {
     "name": "stdout",
     "output_type": "stream",
     "text": [
      "Using 10-fold cross validation, we get the following accuracy scores: \n",
      "[ 0.74850299  0.76247505  0.756       0.806       0.76        0.758       0.788\n",
      "  0.764       0.76953908  0.7995992 ]\n",
      "Using 10-fold cross validation, we get the following precision scores: \n",
      "[ 0.28985507  0.35526316  0.22222222  0.5         0.26530612  0.3125\n",
      "  0.36363636  0.26666667  0.35820896  0.45454545]\n",
      "Using 10-fold cross validation, we get the following recall scores: \n",
      "[ 0.20618557  0.27835052  0.10309278  0.22680412  0.13402062  0.20618557\n",
      "  0.12371134  0.12371134  0.25        0.20833333]\n"
     ]
    }
   ],
   "source": [
    "print (\"Using 10-fold cross validation, we get the following accuracy scores: \")\n",
    "print (cross_val_score(estimator=regr, X=bagOfWordsTrain.toarray()[5000:], y=newTargets[5000:], cv=10))\n",
    "\n",
    "print (\"Using 10-fold cross validation, we get the following precision scores: \")\n",
    "print (cross_val_score(estimator=regr, X=bagOfWordsTrain.toarray()[5000:], y=newTargets[5000:], cv=10, scoring=\"precision\"))\n",
    "\n",
    "print (\"Using 10-fold cross validation, we get the following recall scores: \")\n",
    "print (cross_val_score(estimator=regr, X=bagOfWordsTrain.toarray()[5000:], y=newTargets[5000:], cv=10, scoring=\"recall\"))"
   ]
  },
  {
   "cell_type": "markdown",
   "metadata": {},
   "source": [
    "### SVM for First 5k Reviews Using Bag of Words"
   ]
  },
  {
   "cell_type": "code",
   "execution_count": 48,
   "metadata": {},
   "outputs": [
    {
     "name": "stdout",
     "output_type": "stream",
     "text": [
      "Using 10-fold cross validation, we get the following accuracy scores: \n",
      "[ 0.73253493  0.71457086  0.714       0.7         0.71        0.7         0.716\n",
      "  0.74        0.73547094  0.71142285]\n",
      "Using 10-fold cross validation, we get the following precision scores: \n",
      "[ 0.37837838  0.32692308  0.35245902  0.27368421  0.25        0.25287356\n",
      "  0.30337079  0.34246575  0.35869565  0.28888889]\n",
      "Using 10-fold cross validation, we get the following recall scores: \n",
      "[ 0.39252336  0.31775701  0.40186916  0.24299065  0.17757009  0.20560748\n",
      "  0.25233645  0.23364486  0.31132075  0.24528302]\n"
     ]
    }
   ],
   "source": [
    "#Referenced http://scikit-learn.org/stable/modules/generated/sklearn.svm.SVC.html\n",
    "#Referenced http://scikit-learn.org/stable/modules/generated/sklearn.metrics.confusion_matrix.html\n",
    "#Referenced http://scikit-learn.org/stable/modules/generated/sklearn.model_selection.cross_val_score.html\n",
    "\n",
    "from sklearn.svm import SVC\n",
    "from sklearn.model_selection import cross_val_score\n",
    "from sklearn.preprocessing import LabelBinarizer\n",
    "from sklearn.metrics import confusion_matrix\n",
    "\n",
    "#Binarize the labels to more clearly define True positives and True negatives\n",
    "binarizer = LabelBinarizer(neg_label=False, pos_label=True)\n",
    "binarizer.fit(list(trainData[\"Influential\"]))\n",
    "newTargets = np.ndarray.flatten(binarizer.transform(list(trainData[\"Influential\"])))\n",
    "\n",
    "#Do a single fit on first 5k reviews\n",
    "suppVecMach = SVC(kernel=\"linear\")\n",
    "# suppVecMach.fit(bagOfWordsTrain.toarray()[:5000], newTargets[:5000])\n",
    "# pred = suppVecMach.predict(bagOfWordsTrain.toarray()[:5000])\n",
    "# trueNeg, falsePos, falseNeg, truePos = confusion_matrix(newTargets[:5000], pred).ravel()\n",
    "# print(\"So the accuracy on the first 5k reviews is: \" + str(float(truePos+trueNeg)/(trueNeg+falsePos+falseNeg+truePos)))\n",
    "# print(\"So the precision on the first 5k reviews is: \" + str(float(truePos)/(falsePos+truePos)))\n",
    "# print(\"So the recall on the first 5k reviews is: \" + str(float(truePos)/(falseNeg+truePos)))\n",
    "\n",
    "print (\"Using 10-fold cross validation, we get the following accuracy scores: \")\n",
    "print (cross_val_score(estimator=suppVecMach, X=bagOfWordsTrain[:5000], y=newTargets[:5000], cv=10))\n",
    "\n",
    "print (\"Using 10-fold cross validation, we get the following precision scores: \")\n",
    "print (cross_val_score(estimator=suppVecMach, X=bagOfWordsTrain[:5000], y=newTargets[:5000], cv=10, scoring=\"precision\"))\n",
    "\n",
    "print (\"Using 10-fold cross validation, we get the following recall scores: \")\n",
    "print (cross_val_score(estimator=suppVecMach, X=bagOfWordsTrain[:5000], y=newTargets[:5000], cv=10, scoring=\"recall\"))"
   ]
  },
  {
   "cell_type": "markdown",
   "metadata": {},
   "source": [
    "### SVM For Last 5k Reviews Using Bag of Words"
   ]
  },
  {
   "cell_type": "code",
   "execution_count": 42,
   "metadata": {},
   "outputs": [
    {
     "name": "stdout",
     "output_type": "stream",
     "text": [
      "Using 10-fold cross validation, we get the following accuracy scores: \n",
      "[ 0.72055888  0.72055888  0.724       0.766       0.732       0.728       0.76\n",
      "  0.728       0.73747495  0.75551102]\n",
      "Using 10-fold cross validation, we get the following precision scores: \n",
      "[ 0.28282828  0.30630631  0.24050633  0.36486486  0.26582278  0.27586207\n",
      "  0.35064935  0.25925926  0.32323232  0.33333333]\n",
      "Using 10-fold cross validation, we get the following recall scores: \n",
      "[ 0.28865979  0.35051546  0.19587629  0.27835052  0.21649485  0.24742268\n",
      "  0.27835052  0.21649485  0.33333333  0.27083333]\n"
     ]
    }
   ],
   "source": [
    "print (\"Using 10-fold cross validation, we get the following accuracy scores: \")\n",
    "print (cross_val_score(estimator=suppVecMach, X=bagOfWordsTrain[5000:], y=newTargets[5000:], cv=10))\n",
    "\n",
    "print (\"Using 10-fold cross validation, we get the following precision scores: \")\n",
    "print (cross_val_score(estimator=suppVecMach, X=bagOfWordsTrain[5000:], y=newTargets[5000:], cv=10, scoring=\"precision\"))\n",
    "\n",
    "print (\"Using 10-fold cross validation, we get the following recall scores: \")\n",
    "print (cross_val_score(estimator=suppVecMach, X=bagOfWordsTrain[5000:], y=newTargets[5000:], cv=10, scoring=\"recall\"))"
   ]
  },
  {
   "cell_type": "markdown",
   "metadata": {},
   "source": [
    "## TF-IDF Experiments"
   ]
  },
  {
   "cell_type": "code",
   "execution_count": 7,
   "metadata": {},
   "outputs": [],
   "source": [
    "#Referenced http://scikit-learn.org/stable/modules/generated/sklearn.feature_extraction.text.TfidfVectorizer.html\n",
    "import sklearn.feature_extraction.text as txt\n",
    "\n",
    "#In a bag of words, it makes sense to remove stopwords (as those are too common) and remove punctuation, as we are\n",
    "#looking mainly for the words, not random punctuation signs.\n",
    "#We remove these things from the text as well.\n",
    "temp = trainData[\"text\"].copy() #So we do not modify text directly\n",
    "\n",
    "for i in temp.keys():\n",
    "        for word in temp[i].split(): #Every temp[i] is a sentence\n",
    "            for char in word:\n",
    "                if char in [\".\", \"?\", \",\"]:\n",
    "                    temp[i] = temp[i].replace(char, \"\")\n",
    "\n",
    "tfIdfVect = txt.TfidfVectorizer()\n",
    "tfIdfScores = tfIdfVect.fit_transform(temp)"
   ]
  },
  {
   "cell_type": "markdown",
   "metadata": {},
   "source": [
    "### Naive Bayes for First 5k Reviews Using TF-IDF Scores"
   ]
  },
  {
   "cell_type": "code",
   "execution_count": 8,
   "metadata": {},
   "outputs": [
    {
     "name": "stdout",
     "output_type": "stream",
     "text": [
      "Using 10-fold cross validation, we get the following accuracy scores: \n",
      "[ 0.51297405  0.4750499   0.488       0.488       0.504       0.464       0.502\n",
      "  0.504       0.4749499   0.46092184]\n",
      "Using 10-fold cross validation, we get the following precision scores: \n",
      "[ 0.14507772  0.20895522  0.17180617  0.18025751  0.2         0.16872428\n",
      "  0.21825397  0.20502092  0.17226891  0.16734694]\n",
      "Using 10-fold cross validation, we get the following recall scores: \n",
      "[ 0.26168224  0.52336449  0.36448598  0.39252336  0.43925234  0.38317757\n",
      "  0.51401869  0.45794393  0.38679245  0.38679245]\n"
     ]
    }
   ],
   "source": [
    "#Referenced http://scikit-learn.org/stable/modules/generated/sklearn.model_selection.cross_val_score.html\n",
    "#Referenced http://scikit-learn.org/stable/modules/generated/sklearn.naive_bayes.GaussianNB.html\n",
    "#Referenced http://scikit-learn.org/stable/modules/generated/sklearn.metrics.confusion_matrix.html\n",
    "\n",
    "%matplotlib inline\n",
    "from sklearn.naive_bayes import GaussianNB\n",
    "from sklearn.model_selection import cross_val_score\n",
    "from sklearn.preprocessing import LabelBinarizer\n",
    "from sklearn.metrics import confusion_matrix\n",
    "\n",
    "#Binarize the labels to more clearly define True positives and True negatives\n",
    "binarizer = LabelBinarizer(neg_label=False, pos_label=True)\n",
    "binarizer.fit(list(trainData[\"Influential\"]))\n",
    "newTargets = np.ndarray.flatten(binarizer.transform(list(trainData[\"Influential\"])))\n",
    "\n",
    "#Do a single fit on first 5k reviews\n",
    "naiveBayes = GaussianNB()\n",
    "# naiveBayes.fit(bagOfWordsTrain.toarray(), newTargets)\n",
    "# pred = naiveBayes.predict(bagOfWordsTrain.toarray()[:5000])\n",
    "# trueNeg, falsePos, falseNeg, truePos = confusion_matrix(newTargets[:5000], pred).ravel()\n",
    "# print(\"So the accuracy on the first 5k reviews is: \" + str(float(truePos+trueNeg)/(trueNeg+falsePos+falseNeg+truePos)))\n",
    "# print(\"So the precision on the first 5k reviews is: \" + str(float(truePos)/(falsePos+truePos)))\n",
    "# print(\"So the recall on the first 5k reviews is: \" + str(float(truePos)/(falseNeg+truePos)))\n",
    "\n",
    "#Get some feedback\n",
    "print (\"Using 10-fold cross validation, we get the following accuracy scores: \")\n",
    "print (cross_val_score(estimator=naiveBayes, X=tfIdfScores.toarray()[:5000], y=newTargets[:5000], cv=10))\n",
    "\n",
    "print (\"Using 10-fold cross validation, we get the following precision scores: \")\n",
    "print (cross_val_score(estimator=naiveBayes, X=tfIdfScores.toarray()[:5000], y=newTargets[:5000], cv=10, scoring=\"precision\"))\n",
    "\n",
    "print (\"Using 10-fold cross validation, we get the following recall scores: \")\n",
    "print (cross_val_score(estimator=naiveBayes, X=tfIdfScores.toarray()[:5000], y=newTargets[:5000], cv=10, scoring=\"recall\"))"
   ]
  },
  {
   "cell_type": "markdown",
   "metadata": {},
   "source": [
    "### Naive Bayes for Last 5k Reviews Using TF-IDF Scores"
   ]
  },
  {
   "cell_type": "code",
   "execution_count": 9,
   "metadata": {},
   "outputs": [
    {
     "name": "stdout",
     "output_type": "stream",
     "text": [
      "Using 10-fold cross validation, we get the following accuracy scores: \n",
      "[ 0.52095808  0.56287425  0.572       0.54        0.56        0.542       0.54\n",
      "  0.548       0.53907816  0.52104208]\n",
      "Using 10-fold cross validation, we get the following precision scores: \n",
      "[ 0.15458937  0.14534884  0.17318436  0.17241379  0.18461538  0.16666667\n",
      "  0.16915423  0.16230366  0.11931818  0.15458937]\n",
      "Using 10-fold cross validation, we get the following recall scores: \n",
      "[ 0.32989691  0.25773196  0.31958763  0.36082474  0.37113402  0.34020619\n",
      "  0.35051546  0.31958763  0.21875     0.33333333]\n"
     ]
    }
   ],
   "source": [
    "print (\"Using 10-fold cross validation, we get the following accuracy scores: \")\n",
    "print (cross_val_score(estimator=naiveBayes, X=tfIdfScores.toarray()[5000:], y=newTargets[5000:], cv=10))\n",
    "\n",
    "print (\"Using 10-fold cross validation, we get the following precision scores: \")\n",
    "print (cross_val_score(estimator=naiveBayes, X=tfIdfScores.toarray()[5000:], y=newTargets[5000:], cv=10, scoring=\"precision\"))\n",
    "\n",
    "print (\"Using 10-fold cross validation, we get the following recall scores: \")\n",
    "print (cross_val_score(estimator=naiveBayes, X=tfIdfScores.toarray()[5000:], y=newTargets[5000:], cv=10, scoring=\"recall\"))"
   ]
  },
  {
   "cell_type": "markdown",
   "metadata": {},
   "source": [
    "### Random Forest for First 5k Reviews Using TF-IDF Scores"
   ]
  },
  {
   "cell_type": "code",
   "execution_count": 11,
   "metadata": {},
   "outputs": [
    {
     "name": "stdout",
     "output_type": "stream",
     "text": [
      "Using 10-fold cross validation, we get the following accuracy scores: \n",
      "[ 0.78642715  0.78243513  0.786       0.79        0.782       0.786       0.788\n",
      "  0.782       0.77955912  0.80160321]\n",
      "Using 10-fold cross validation, we get the following precision scores: \n",
      "[ 0.72727273  0.22222222  0.375       0.66666667  0.5         0.5\n",
      "  0.28571429  0.14285714  0.55555556  0.6       ]\n",
      "Using 10-fold cross validation, we get the following recall scores: \n",
      "[ 0.11214953  0.01869159  0.02803738  0.04672897  0.01869159  0.03738318\n",
      "  0.01869159  0.01869159  0.01886792  0.06603774]\n"
     ]
    }
   ],
   "source": [
    "#Referenced http://scikit-learn.org/stable/modules/generated/sklearn.ensemble.RandomForestClassifier.html\n",
    "#Referenced http://scikit-learn.org/stable/modules/generated/sklearn.metrics.confusion_matrix.html\n",
    "#Referenced http://scikit-learn.org/stable/modules/generated/sklearn.model_selection.cross_val_score.html\n",
    "\n",
    "from sklearn.ensemble import RandomForestClassifier\n",
    "from sklearn.model_selection import cross_val_score\n",
    "from sklearn.preprocessing import LabelBinarizer\n",
    "from sklearn.metrics import confusion_matrix\n",
    "\n",
    "#Binarize the labels to more clearly define True positives and True negatives\n",
    "binarizer = LabelBinarizer(neg_label=False, pos_label=True)\n",
    "binarizer.fit(list(trainData[\"Influential\"]))\n",
    "newTargets = np.ndarray.flatten(binarizer.transform(list(trainData[\"Influential\"])))\n",
    "\n",
    "#Do a single fit on first 5k reviews\n",
    "forest = RandomForestClassifier()\n",
    "# forest.fit(bagOfWordsTrain.toarray(), newTargets)\n",
    "# pred = forest.predict(bagOfWordsTrain.toarray()[:5000])\n",
    "# trueNeg, falsePos, falseNeg, truePos = confusion_matrix(newTargets[:5000], pred).ravel()\n",
    "# print(\"So the accuracy on the first 5k reviews is: \" + str(float(truePos+trueNeg)/(trueNeg+falsePos+falseNeg+truePos)))\n",
    "# print(\"So the precision on the first 5k reviews is: \" + str(float(truePos)/(falsePos+truePos)))\n",
    "# print(\"So the recall on the first 5k reviews is: \" + str(float(truePos)/(falseNeg+truePos)))\n",
    "\n",
    "print (\"Using 10-fold cross validation, we get the following accuracy scores: \")\n",
    "print (cross_val_score(estimator=forest, X=tfIdfScores[:5000], y=newTargets[:5000], cv=10))\n",
    "\n",
    "print (\"Using 10-fold cross validation, we get the following precision scores: \")\n",
    "print (cross_val_score(estimator=forest, X=tfIdfScores[:5000], y=newTargets[:5000], cv=10, scoring=\"precision\"))\n",
    "\n",
    "print (\"Using 10-fold cross validation, we get the following recall scores: \")\n",
    "print (cross_val_score(estimator=forest, X=tfIdfScores[:5000], y=newTargets[:5000], cv=10, scoring=\"recall\"))"
   ]
  },
  {
   "cell_type": "markdown",
   "metadata": {},
   "source": [
    "### Random Forest for Last 5k Reviews Using TF-IDF Scores"
   ]
  },
  {
   "cell_type": "code",
   "execution_count": 12,
   "metadata": {},
   "outputs": [
    {
     "name": "stdout",
     "output_type": "stream",
     "text": [
      "Using 10-fold cross validation, we get the following accuracy scores: \n",
      "[ 0.80638723  0.80439122  0.8         0.804       0.802       0.798       0.806\n",
      "  0.804       0.80761523  0.80961924]\n",
      "Using 10-fold cross validation, we get the following precision scores: \n"
     ]
    },
    {
     "name": "stderr",
     "output_type": "stream",
     "text": [
      "C:\\ProgramData\\Anaconda3\\lib\\site-packages\\sklearn\\metrics\\classification.py:1113: UndefinedMetricWarning: Precision is ill-defined and being set to 0.0 due to no predicted samples.\n",
      "  'precision', 'predicted', average, warn_for)\n"
     ]
    },
    {
     "name": "stdout",
     "output_type": "stream",
     "text": [
      "[ 0.5         0.66666667  0.          0.          1.          0.\n",
      "  0.33333333  0.25        0.33333333  0.        ]\n",
      "Using 10-fold cross validation, we get the following recall scores: \n",
      "[ 0.          0.02061856  0.01030928  0.01030928  0.          0.01030928\n",
      "  0.          0.03092784  0.04166667  0.01041667]\n"
     ]
    }
   ],
   "source": [
    "print (\"Using 10-fold cross validation, we get the following accuracy scores: \")\n",
    "print (cross_val_score(estimator=forest, X=tfIdfScores[5000:], y=newTargets[5000:], cv=10))\n",
    "\n",
    "print (\"Using 10-fold cross validation, we get the following precision scores: \")\n",
    "print (cross_val_score(estimator=forest, X=tfIdfScores[5000:], y=newTargets[5000:], cv=10, scoring=\"precision\"))\n",
    "\n",
    "print (\"Using 10-fold cross validation, we get the following recall scores: \")\n",
    "print (cross_val_score(estimator=forest, X=tfIdfScores[5000:], y=newTargets[5000:], cv=10, scoring=\"recall\"))"
   ]
  },
  {
   "cell_type": "markdown",
   "metadata": {},
   "source": [
    "### Logistic Regression for First 5k Reviews Using TF-IDF Scores"
   ]
  },
  {
   "cell_type": "code",
   "execution_count": 14,
   "metadata": {},
   "outputs": [
    {
     "name": "stdout",
     "output_type": "stream",
     "text": [
      "Using 10-fold cross validation, we get the following accuracy scores: \n",
      "[ 0.80838323  0.78443114  0.788       0.782       0.784       0.792       0.788\n",
      "  0.782       0.78957916  0.79158317]\n",
      "Using 10-fold cross validation, we get the following precision scores: \n",
      "[ 0.78947368  0.42857143  0.54545455  0.42857143  0.33333333  0.66666667\n",
      "  0.66666667  0.25        0.55555556  0.55      ]\n",
      "Using 10-fold cross validation, we get the following recall scores: \n",
      "[ 0.14018692  0.02803738  0.05607477  0.05607477  0.00934579  0.05607477\n",
      "  0.01869159  0.00934579  0.04716981  0.10377358]\n"
     ]
    }
   ],
   "source": [
    "#Referenced http://scikit-learn.org/stable/modules/generated/sklearn.linear_model.LogisticRegression.html\n",
    "#Referenced http://scikit-learn.org/stable/modules/generated/sklearn.metrics.confusion_matrix.html\n",
    "#Referenced http://scikit-learn.org/stable/modules/generated/sklearn.model_selection.cross_val_score.html\n",
    "\n",
    "from sklearn.linear_model import LogisticRegression\n",
    "from sklearn.model_selection import cross_val_score\n",
    "from sklearn.preprocessing import LabelBinarizer\n",
    "from sklearn.metrics import confusion_matrix\n",
    "\n",
    "#Binarize the labels to more clearly define True positives and True negatives\n",
    "binarizer = LabelBinarizer(neg_label=False, pos_label=True)\n",
    "binarizer.fit(list(trainData[\"Influential\"]))\n",
    "newTargets = np.ndarray.flatten(binarizer.transform(list(trainData[\"Influential\"])))\n",
    "\n",
    "#Do a single fit on first 5k reviews\n",
    "regr = LogisticRegression()\n",
    "# regr.fit(bagOfWordsTrain.toarray(), newTargets)\n",
    "# pred = regr.predict(bagOfWordsTrain.toarray()[:5000])\n",
    "# trueNeg, falsePos, falseNeg, truePos = confusion_matrix(newTargets[:5000], pred).ravel()\n",
    "# print(\"So the accuracy on the first 5k reviews is: \" + str(float(truePos+trueNeg)/(trueNeg+falsePos+falseNeg+truePos)))\n",
    "# print(\"So the precision on the first 5k reviews is: \" + str(float(truePos)/(falsePos+truePos)))\n",
    "# print(\"So the recall on the first 5k reviews is: \" + str(float(truePos)/(falseNeg+truePos)))\n",
    "\n",
    "print (\"Using 10-fold cross validation, we get the following accuracy scores: \")\n",
    "print (cross_val_score(estimator=regr, X=tfIdfScores[:5000], y=newTargets[:5000], cv=10))\n",
    "\n",
    "print (\"Using 10-fold cross validation, we get the following precision scores: \")\n",
    "print (cross_val_score(estimator=regr, X=tfIdfScores[:5000], y=newTargets[:5000], cv=10, scoring=\"precision\"))\n",
    "\n",
    "print (\"Using 10-fold cross validation, we get the following recall scores: \")\n",
    "print (cross_val_score(estimator=regr, X=tfIdfScores[:5000], y=newTargets[:5000], cv=10, scoring=\"recall\"))"
   ]
  },
  {
   "cell_type": "markdown",
   "metadata": {},
   "source": [
    "### Logistic Regression for Last 5k Reviews Using TF-IDF Scores"
   ]
  },
  {
   "cell_type": "code",
   "execution_count": 15,
   "metadata": {},
   "outputs": [
    {
     "name": "stdout",
     "output_type": "stream",
     "text": [
      "Using 10-fold cross validation, we get the following accuracy scores: \n",
      "[ 0.80239521  0.80838323  0.804       0.808       0.81        0.806       0.808\n",
      "  0.816       0.81162325  0.81362725]\n",
      "Using 10-fold cross validation, we get the following precision scores: \n",
      "[ 0.25        0.6         0.33333333  1.          0.75        0.5         1.\n",
      "  1.          1.          0.8       ]\n",
      "Using 10-fold cross validation, we get the following recall scores: \n",
      "[ 0.01030928  0.03092784  0.01030928  0.01030928  0.03092784  0.01030928\n",
      "  0.01030928  0.05154639  0.02083333  0.04166667]\n"
     ]
    }
   ],
   "source": [
    "print (\"Using 10-fold cross validation, we get the following accuracy scores: \")\n",
    "print (cross_val_score(estimator=regr, X=tfIdfScores[5000:], y=newTargets[5000:], cv=10))\n",
    "\n",
    "print (\"Using 10-fold cross validation, we get the following precision scores: \")\n",
    "print (cross_val_score(estimator=regr, X=tfIdfScores[5000:], y=newTargets[5000:], cv=10, scoring=\"precision\"))\n",
    "\n",
    "print (\"Using 10-fold cross validation, we get the following recall scores: \")\n",
    "print (cross_val_score(estimator=regr, X=tfIdfScores[5000:], y=newTargets[5000:], cv=10, scoring=\"recall\"))"
   ]
  },
  {
   "cell_type": "markdown",
   "metadata": {},
   "source": [
    "### SVM for First 5k Reviews Using TF-IDF Scores"
   ]
  },
  {
   "cell_type": "code",
   "execution_count": 22,
   "metadata": {},
   "outputs": [
    {
     "name": "stdout",
     "output_type": "stream",
     "text": [
      "Using 10-fold cross validation, we get the following accuracy scores: \n",
      "[ 0.79041916  0.77844311  0.79        0.772       0.786       0.79        0.782\n",
      "  0.786       0.78356713  0.7995992 ]\n",
      "Using 10-fold cross validation, we get the following precision scores: \n",
      "[ 0.58333333  0.3         0.66666667  0.23076923  0.5         0.66666667\n",
      "  0.25        0.5         0.33333333  0.6875    ]\n",
      "Using 10-fold cross validation, we get the following recall scores: \n",
      "[ 0.06542056  0.02803738  0.03738318  0.02803738  0.01869159  0.03738318\n",
      "  0.00934579  0.01869159  0.01886792  0.10377358]\n"
     ]
    }
   ],
   "source": [
    "#Referenced http://scikit-learn.org/stable/modules/generated/sklearn.svm.SVC.html\n",
    "#Referenced http://scikit-learn.org/stable/modules/generated/sklearn.metrics.confusion_matrix.html\n",
    "#Referenced http://scikit-learn.org/stable/modules/generated/sklearn.model_selection.cross_val_score.html\n",
    "\n",
    "from sklearn.svm import SVC\n",
    "from sklearn.model_selection import cross_val_score\n",
    "from sklearn.preprocessing import LabelBinarizer\n",
    "from sklearn.metrics import confusion_matrix\n",
    "\n",
    "#Binarize the labels to more clearly define True positives and True negatives\n",
    "binarizer = LabelBinarizer(neg_label=False, pos_label=True)\n",
    "binarizer.fit(list(trainData[\"Influential\"]))\n",
    "newTargets = np.ndarray.flatten(binarizer.transform(list(trainData[\"Influential\"])))\n",
    "\n",
    "#Do a single fit on first 5k reviews\n",
    "suppVecMach = SVC(kernel=\"linear\")\n",
    "# suppVecMach.fit(bagOfWordsTrain.toarray()[:5000], newTargets[:5000])\n",
    "# pred = suppVecMach.predict(bagOfWordsTrain.toarray()[:5000])\n",
    "# trueNeg, falsePos, falseNeg, truePos = confusion_matrix(newTargets[:5000], pred).ravel()\n",
    "# print(\"So the accuracy on the first 5k reviews is: \" + str(float(truePos+trueNeg)/(trueNeg+falsePos+falseNeg+truePos)))\n",
    "# print(\"So the precision on the first 5k reviews is: \" + str(float(truePos)/(falsePos+truePos)))\n",
    "# print(\"So the recall on the first 5k reviews is: \" + str(float(truePos)/(falseNeg+truePos)))\n",
    "\n",
    "print (\"Using 10-fold cross validation, we get the following accuracy scores: \")\n",
    "print (cross_val_score(estimator=suppVecMach, X=tfIdfScores[:5000], y=newTargets[:5000], cv=10))\n",
    "\n",
    "print (\"Using 10-fold cross validation, we get the following precision scores: \")\n",
    "print (cross_val_score(estimator=suppVecMach, X=tfIdfScores[:5000], y=newTargets[:5000], cv=10, scoring=\"precision\"))\n",
    "\n",
    "print (\"Using 10-fold cross validation, we get the following recall scores: \")\n",
    "print (cross_val_score(estimator=suppVecMach, X=tfIdfScores[:5000], y=newTargets[:5000], cv=10, scoring=\"recall\"))"
   ]
  },
  {
   "cell_type": "markdown",
   "metadata": {},
   "source": [
    "### SVM for Last 5k Reviews Using TF-IDF Scores"
   ]
  },
  {
   "cell_type": "code",
   "execution_count": 23,
   "metadata": {},
   "outputs": [
    {
     "name": "stdout",
     "output_type": "stream",
     "text": [
      "Using 10-fold cross validation, we get the following accuracy scores: \n",
      "[ 0.80439122  0.80638723  0.806       0.808       0.812       0.806       0.806\n",
      "  0.808       0.80761523  0.80961924]\n",
      "Using 10-fold cross validation, we get the following precision scores: \n"
     ]
    },
    {
     "name": "stderr",
     "output_type": "stream",
     "text": [
      "C:\\ProgramData\\Anaconda3\\lib\\site-packages\\sklearn\\metrics\\classification.py:1113: UndefinedMetricWarning: Precision is ill-defined and being set to 0.0 due to no predicted samples.\n",
      "  'precision', 'predicted', average, warn_for)\n",
      "C:\\ProgramData\\Anaconda3\\lib\\site-packages\\sklearn\\metrics\\classification.py:1113: UndefinedMetricWarning: Precision is ill-defined and being set to 0.0 due to no predicted samples.\n",
      "  'precision', 'predicted', average, warn_for)\n",
      "C:\\ProgramData\\Anaconda3\\lib\\site-packages\\sklearn\\metrics\\classification.py:1113: UndefinedMetricWarning: Precision is ill-defined and being set to 0.0 due to no predicted samples.\n",
      "  'precision', 'predicted', average, warn_for)\n"
     ]
    },
    {
     "name": "stdout",
     "output_type": "stream",
     "text": [
      "[ 0.33333333  0.5         0.          1.          1.          0.          0.5\n",
      "  1.          0.          1.        ]\n",
      "Using 10-fold cross validation, we get the following recall scores: \n",
      "[ 0.01030928  0.02061856  0.          0.01030928  0.03092784  0.\n",
      "  0.01030928  0.01030928  0.          0.01041667]\n"
     ]
    }
   ],
   "source": [
    "print (\"Using 10-fold cross validation, we get the following accuracy scores: \")\n",
    "print (cross_val_score(estimator=suppVecMach, X=tfIdfScores[5000:], y=newTargets[5000:], cv=10))\n",
    "\n",
    "print (\"Using 10-fold cross validation, we get the following precision scores: \")\n",
    "print (cross_val_score(estimator=suppVecMach, X=tfIdfScores[5000:], y=newTargets[5000:], cv=10, scoring=\"precision\"))\n",
    "\n",
    "print (\"Using 10-fold cross validation, we get the following recall scores: \")\n",
    "print (cross_val_score(estimator=suppVecMach, X=tfIdfScores[5000:], y=newTargets[5000:], cv=10, scoring=\"recall\"))"
   ]
  },
  {
   "cell_type": "code",
   "execution_count": null,
   "metadata": {
    "collapsed": true
   },
   "outputs": [],
   "source": []
  }
 ],
 "metadata": {
  "kernelspec": {
   "display_name": "Python 3",
   "language": "python",
   "name": "python3"
  },
  "language_info": {
   "codemirror_mode": {
    "name": "ipython",
    "version": 3
   },
   "file_extension": ".py",
   "mimetype": "text/x-python",
   "name": "python",
   "nbconvert_exporter": "python",
   "pygments_lexer": "ipython3",
   "version": "3.6.1"
  }
 },
 "nbformat": 4,
 "nbformat_minor": 2
}
