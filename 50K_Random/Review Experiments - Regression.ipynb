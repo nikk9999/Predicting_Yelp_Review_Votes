{
 "cells": [
  {
   "cell_type": "markdown",
   "metadata": {},
   "source": [
    "# Load Data, Import stuff"
   ]
  },
  {
   "cell_type": "code",
   "execution_count": 1,
   "metadata": {},
   "outputs": [
    {
     "name": "stderr",
     "output_type": "stream",
     "text": [
      "UsageError: Line magic function `%` not found.\n"
     ]
    }
   ],
   "source": [
    "import matplotlib.pyplot as plt\n",
    "import numpy as np\n",
    "import pandas as pd\n",
    "import os\n",
    "import pickle\n",
    "import json\n",
    "import datetime\n",
    "from json import JSONDecoder\n",
    "\n",
    "% matplotlib inline\n"
   ]
  },
  {
   "cell_type": "code",
   "execution_count": null,
   "metadata": {},
   "outputs": [],
   "source": [
    "from plotly.offline import init_notebook_mode, plot, iplot\n",
    "import plotly.graph_objs as go\n",
    "import plotly.io as pio\n",
    "\n",
    "init_notebook_mode()"
   ]
  },
  {
   "cell_type": "code",
   "execution_count": 2,
   "metadata": {},
   "outputs": [],
   "source": [
    "\n",
    "import textstat\n",
    "from nltk.corpus import stopwords\n",
    "\n",
    "from sklearn.base import BaseEstimator, TransformerMixin, RegressorMixin\n",
    "from sklearn.model_selection import train_test_split\n",
    "from sklearn.feature_extraction.text import CountVectorizer, TfidfVectorizer\n",
    "from sklearn.model_selection import cross_validate, KFold\n",
    "from sklearn.metrics import classification_report, f1_score\n",
    "from sklearn.pipeline import FeatureUnion\n",
    "from sklearn.linear_model import Lasso, LinearRegression, Ridge\n",
    "from sklearn.ensemble import RandomForestRegressor, GradientBoostingRegressor\n",
    "\n",
    "from xgboost.sklearn import XGBRegressor\n",
    "from statsmodels.discrete.discrete_model import Poisson, NegativeBinomial\n",
    "from scipy.sparse import issparse"
   ]
  },
  {
   "cell_type": "markdown",
   "metadata": {},
   "source": [
    "## Read raw data"
   ]
  },
  {
   "cell_type": "code",
   "execution_count": 14,
   "metadata": {},
   "outputs": [],
   "source": [
    "train_file = \"./sampleData/train_reviews_restaurants.csv\"\n",
    "test_file = \"./sampleData/test_reviews_restaurants.csv\"\n",
    "reviews_train  = pd.read_csv(train_file)\n",
    "reviews_test = pd.read_csv(test_file)"
   ]
  },
  {
   "cell_type": "markdown",
   "metadata": {},
   "source": [
    "# User Features"
   ]
  },
  {
   "cell_type": "code",
   "execution_count": 4,
   "metadata": {},
   "outputs": [],
   "source": [
    "def computeUserScore():\n",
    "    score_dict = {}\n",
    "    with open('../yelp_dataset/yelp_academic_dataset_user.json') as input_file:\n",
    "            count=0\n",
    "            for user in input_file:\n",
    "                usr = json.loads(user)\n",
    "                total_votes = usr['useful'] + usr['funny'] + usr['cool']\n",
    "                if(usr['review_count'] == 0):\n",
    "                    score =0\n",
    "                else:\n",
    "                    score = total_votes/ usr['review_count']\n",
    "                score_dict[usr['user_id']] = round(score,3)\n",
    "    input_file.close()\n",
    "    return score_dict"
   ]
  },
  {
   "cell_type": "code",
   "execution_count": 5,
   "metadata": {},
   "outputs": [],
   "source": [
    "def computeUserFeatures():\n",
    "    user_dict = {}\n",
    "    score_dict = computeUserScore()\n",
    "    with open('../yelp_dataset/yelp_academic_dataset_user.json') as user_file:\n",
    "        count=0\n",
    "        for user in user_file:\n",
    "            usr = json.loads(user)\n",
    "            yelping_since = usr['yelping_since']\n",
    "            fans = usr['fans']\n",
    "            review_count = usr['review_count']\n",
    "            avg_stars = usr['average_stars']\n",
    "            if(usr['elite']==\"None\"):\n",
    "                elite_count=0\n",
    "            else:\n",
    "                elite_count= len(usr['elite'].split(', '))\n",
    "            usr['elite_count'] = elite_count\n",
    "\n",
    "            total_votes = usr['useful'] + usr['funny'] + usr['cool']\n",
    "            if(usr['review_count'] == 0):\n",
    "                score = 0\n",
    "            else:\n",
    "                score = round(total_votes/ usr['review_count'], 3)\n",
    "            usr['score'] = score\n",
    "            total_score=0\n",
    "            max_score = 0\n",
    "            if(usr['friends']!= \"None\"):\n",
    "                friends= usr['friends'].split(', ')\n",
    "                friend_count = len(friends)\n",
    "                for friend in friends:\n",
    "                    if(friend in score_dict):\n",
    "                        total_score = total_score + score_dict[friend]\n",
    "                        max_score = max(max_score, score_dict[friend])\n",
    "                avg_nw_score = round(total_score/friend_count, 3)\n",
    "                max_nw_score = max_score\n",
    "            else:\n",
    "                friend_count = 0\n",
    "                avg_nw_score = 0\n",
    "                max_nw_score = 0\n",
    "            features = [fans, avg_stars, review_count,  elite_count, total_votes, score, avg_nw_score, max_nw_score, friend_count, yelping_since]\n",
    "            user_dict[usr['user_id']] = features\n",
    "    return user_dict"
   ]
  },
  {
   "cell_type": "code",
   "execution_count": 6,
   "metadata": {},
   "outputs": [],
   "source": [
    "def days_between(review_data, yelping_since):\n",
    "    yelp_join_dt = datetime.datetime.strptime(yelping_since,'%Y-%m-%d')\n",
    "    review_datetime = datetime.datetime.strptime(review_data,'%Y-%m-%d')\n",
    "    return (review_datetime-yelp_join_dt).days"
   ]
  },
  {
   "cell_type": "markdown",
   "metadata": {},
   "source": [
    "## Regression"
   ]
  },
  {
   "cell_type": "code",
   "execution_count": 7,
   "metadata": {},
   "outputs": [],
   "source": [
    "def run_regression(reviews_df, create_model, create_vectorizer, num_train=None, num_test=None, weight_fn=None):\n",
    "    train_df, test_df = train_test_split(reviews_df, test_size=0.2)\n",
    "    if num_train:\n",
    "        train_df = train_df.sample(num_train)\n",
    "    if num_test:\n",
    "        test_df = test_df.sample(num_test)\n",
    "    model = create_model()\n",
    "    vectorizer = create_vectorizer()\n",
    "    vectorizer.fit(train_df)\n",
    "    print('Fit vectorizer')\n",
    "    train_vectors = vectorizer.transform(train_df)\n",
    "    test_vectors = vectorizer.transform(test_df)\n",
    "    print('Created vectors')\n",
    "    train_vote_count = train_df['total_votes'].values\n",
    "    if weight_fn:\n",
    "        model.fit(train_vectors, train_vote_count, sample_weight=weight_fn(train_df))\n",
    "    else:\n",
    "        model.fit(train_vectors, train_vote_count)\n",
    "    print('Fit model')\n",
    "    plot_residuals(model, train_vectors, train_df['total_votes'].values)\n",
    "    plot_residuals(model, test_vectors, test_df['total_votes'].values)"
   ]
  },
  {
   "cell_type": "code",
   "execution_count": 8,
   "metadata": {},
   "outputs": [],
   "source": [
    "def plot_residuals(model, vectors, true_y):\n",
    "    pred = model.predict(vectors)\n",
    "    diff = true_y - pred\n",
    "    print(f'R squared: {model.score(vectors, true_y):.4f}')\n",
    "    plt.title('Residual Plot')\n",
    "    plt.scatter(true_y, diff, marker='o')"
   ]
  },
  {
   "cell_type": "code",
   "execution_count": 9,
   "metadata": {},
   "outputs": [],
   "source": [
    "class PandasCountVectorizer(TransformerMixin):\n",
    "    # A bag-of-words vectorizer that works with an entire DataFrame as input.\n",
    "    # This lets me create a combined feature pipeline with multiple feature vectorizers\n",
    "    # where I don't have to worry about passing different columns to each.\n",
    "\n",
    "    def __init__(self, *args, **kwargs):\n",
    "        self.vectorizer = CountVectorizer(*args, **kwargs)\n",
    "\n",
    "    def fit(self, X, *args, **kwargs):\n",
    "        self.vectorizer.fit(X['text'].values)\n",
    "        return self\n",
    "\n",
    "    def transform(self, X):\n",
    "        return self.vectorizer.transform(X['text'].values)"
   ]
  },
  {
   "cell_type": "code",
   "execution_count": 10,
   "metadata": {},
   "outputs": [],
   "source": [
    "class CustomFeatures(TransformerMixin):\n",
    "    # A feature vectorizer that creates features based on length, readability and review stars.\n",
    "    # Use this to add other new custom features (like sentiment and user history maybe)\n",
    "    # Btw, I think sentiment might not help much - intuitively it seems like it'd be highly correlated with \n",
    "    # review stars - 5 star rating - likely positive; 1 star rating - likely negative.\n",
    "\n",
    "    def fit(self, *args, **kwargs):\n",
    "        return self\n",
    "    \n",
    "    def _review_features(self, review):\n",
    "        return [\n",
    "            len(review.text),\n",
    "            review.stars,\n",
    "            review.coleman_liau_index,\n",
    "            review.automated_readability_index,\n",
    "            review.dale_chall_readability_score,\n",
    "            review.linsear_write_formula,\n",
    "            review.gunning_fog,\n",
    "            review.flesch_reading_ease,\n",
    "            review.fans,\n",
    "            review.usr_avg_stars,\n",
    "            review.usr_review_count,\n",
    "            review.elite_count,\n",
    "            review.usr_total_votes,\n",
    "            review.usr_score,\n",
    "            review.avg_nw_score,\n",
    "            review.max_nw_score,\n",
    "            review.friend_count,\n",
    "            review.posted_days\n",
    "        ]\n",
    "\n",
    "    def transform(self, reviews):\n",
    "        return np.array([self._review_features(r) for r in reviews.itertuples()])"
   ]
  },
  {
   "cell_type": "code",
   "execution_count": 15,
   "metadata": {},
   "outputs": [],
   "source": [
    "# Ordinary Linear Regression with bag of words with basic filtering\n",
    "bow_vectorizer_fn = lambda: PandasCountVectorizer(min_df=10, max_df=0.75, max_features=1000)"
   ]
  },
  {
   "cell_type": "code",
   "execution_count": 16,
   "metadata": {},
   "outputs": [],
   "source": [
    "### User features are claculated and written to file, hence needn't be recalculated ###\n",
    "\n",
    "#user_features = computeUserFeatures()\n",
    "#user_pd = pd.DataFrame.from_dict(user_features, orient='index',  columns=['fans', 'usr_avg_stars', 'usr_review_count', 'elite_count', 'usr_total_votes', 'usr_score', 'avg_nw_score', 'max_nw_score', 'friend_count', 'yelping_since'])\n",
    "#reviews_train = reviews_train_data.join(user_pd, on=\"user_id\")\n",
    "#reviews_train['posted_days'] = reviews_train.apply(lambda x : days_between(x['date'], x['yelping_since']), axis=1)\n"
   ]
  },
  {
   "cell_type": "code",
   "execution_count": 17,
   "metadata": {},
   "outputs": [
    {
     "name": "stdout",
     "output_type": "stream",
     "text": [
      "Fit vectorizer\n",
      "Created vectors\n",
      "Fit model\n",
      "R squared: 0.1982\n",
      "R squared: 0.0499\n"
     ]
    },
    {
     "data": {
      "image/png": "[encoded data removed]",
      "text/plain": [
       "<Figure size 432x288 with 1 Axes>"
      ]
     },
     "metadata": {
      "needs_background": "light"
     },
     "output_type": "display_data"
    }
   ],
   "source": [
    "run_regression(reviews_train, LinearRegression, bow_vectorizer_fn)"
   ]
  },
  {
   "cell_type": "markdown",
   "metadata": {},
   "source": [
    "The plot above shows residuals on the y-axis (true vote count - predicted vote count) vs the true vote count on the x-axis. Residual plots are a commonly used tool to understand the results of regression analysis and their validity. Here, we see that the residual grows almost linearly (with a coefficient of ~1) with the true value. This is a major problem - it means that the model predicts 0 for most reviews with non-zero vote counts.\n",
    "\n",
    "This may be happening because of the uneven distribution of examples we have - most examples have very few votes, so the cost function of the regression model (mean squared error) is minimized by simply predicting zero/close to zero for most examples.\n",
    "\n",
    "The second thing to look at the is the R-squared value - the first is on the train set, the second on a validation set. The fact that it is significantly lower for the validation set indicates a significant degree of overfitting."
   ]
  },
  {
   "cell_type": "markdown",
   "metadata": {},
   "source": [
    "### Add readability scores"
   ]
  },
  {
   "cell_type": "code",
   "execution_count": 70,
   "metadata": {},
   "outputs": [
    {
     "name": "stdout",
     "output_type": "stream",
     "text": [
      "coleman_liau_index\n",
      "automated_readability_index\n",
      "dale_chall_readability_score\n",
      "linsear_write_formula\n",
      "gunning_fog\n",
      "flesch_reading_ease\n"
     ]
    }
   ],
   "source": [
    "# Code to compute readability scores, add them to the pandas df, and save to file\n",
    "# Commenting it out since there's no need to run this again. Leaving it for reference\n",
    "# in case it needs to be run on other data\n",
    "\n",
    "#readability_fns = [\n",
    "#    textstat.coleman_liau_index,\n",
    "#    textstat.automated_readability_index,\n",
    "#    textstat.dale_chall_readability_score,\n",
    "#    textstat.linsear_write_formula,\n",
    "#    textstat.gunning_fog,\n",
    "#    textstat.flesch_reading_ease,\n",
    "#    ]\n",
    "#for fn in readability_fns:\n",
    "#    print(fn.__name__)\n",
    "#    reviews_train[fn.__name__] = reviews_train['text'].apply(fn)\n",
    "#reviews_train.to_csv(train_file)"
   ]
  },
  {
   "cell_type": "code",
   "execution_count": 18,
   "metadata": {},
   "outputs": [],
   "source": [
    "# Linear Regression with bag-of-words + custom features (length, review stars, different readability scores)\n",
    "bow_readability_vectorizer_fn = lambda: FeatureUnion([\n",
    "    ('bow', PandasCountVectorizer(min_df=10, max_df=0.75, max_features=1000)),\n",
    "    ('custom', CustomFeatures()),\n",
    "])"
   ]
  },
  {
   "cell_type": "code",
   "execution_count": 19,
   "metadata": {},
   "outputs": [
    {
     "name": "stdout",
     "output_type": "stream",
     "text": [
      "Fit vectorizer\n",
      "Created vectors\n",
      "Fit model\n",
      "R squared: 0.4805\n",
      "R squared: 0.3040\n"
     ]
    },
    {
     "data": {
      "image/png": "[encoded data removed]",
      "text/plain": [
       "<Figure size 432x288 with 1 Axes>"
      ]
     },
     "metadata": {
      "needs_background": "light"
     },
     "output_type": "display_data"
    }
   ],
   "source": [
    "run_regression(reviews_train, LinearRegression, bow_readability_vectorizer_fn)"
   ]
  },
  {
   "cell_type": "markdown",
   "metadata": {},
   "source": [
    "Slightly better, but hardly. If our regression model is to be any good, our residuals need to be normally distributed with a zero mean AND we need a decent R-squared value for both train/validation sets (greater than 0.3-0.4 at least). Something like this for the residual plot - "
   ]
  },
  {
   "cell_type": "code",
   "execution_count": 20,
   "metadata": {},
   "outputs": [
    {
     "data": {
      "text/html": [
       "<img src=\"./residuals.png\"/>"
      ],
      "text/plain": [
       "<IPython.core.display.Image object>"
      ]
     },
     "execution_count": 20,
     "metadata": {},
     "output_type": "execute_result"
    }
   ],
   "source": [
    "# Image off the internet, not something i've achieved on our data\n",
    "from IPython.display import Image\n",
    "from IPython.core.display import HTML \n",
    "Image(url= \"./residuals.png\")"
   ]
  },
  {
   "cell_type": "markdown",
   "metadata": {},
   "source": [
    "### Regression with weights"
   ]
  },
  {
   "cell_type": "markdown",
   "metadata": {},
   "source": [
    "Next I tried weighted regression - since we have lots of data with near-zero votes and very few with high votes, I decided to add a weight to each training example proportional to its vote count. I experimented with different formulae - nothing helps much."
   ]
  },
  {
   "cell_type": "code",
   "execution_count": 21,
   "metadata": {},
   "outputs": [],
   "source": [
    "weight_by_votes = lambda df: 1 + df.total_votes.values/10"
   ]
  },
  {
   "cell_type": "code",
   "execution_count": 22,
   "metadata": {},
   "outputs": [
    {
     "name": "stdout",
     "output_type": "stream",
     "text": [
      "Fit vectorizer\n",
      "Created vectors\n",
      "Fit model\n",
      "R squared: -0.0968\n",
      "R squared: -0.5580\n"
     ]
    },
    {
     "data": {
      "image/png": "[encoded data removed]",
      "text/plain": [
       "<Figure size 432x288 with 1 Axes>"
      ]
     },
     "metadata": {
      "needs_background": "light"
     },
     "output_type": "display_data"
    }
   ],
   "source": [
    "run_regression(reviews_train, LinearRegression, bow_readability_vectorizer_fn, weight_fn=weight_by_votes)"
   ]
  },
  {
   "cell_type": "markdown",
   "metadata": {},
   "source": [
    "We still have a linear-ish residual plot. And, the R-squared values are absolutely horrible."
   ]
  },
  {
   "cell_type": "markdown",
   "metadata": {},
   "source": [
    "### Other regression models"
   ]
  },
  {
   "cell_type": "markdown",
   "metadata": {},
   "source": [
    "The problem may not be suited to linear regression at all - so I tried XGB and Random Forest based regression. I couldn't find simple python libraries for the regression models Nikhikta/Prof suggested - Tobit, Poisson and Negative Binomial regression."
   ]
  },
  {
   "cell_type": "code",
   "execution_count": 24,
   "metadata": {},
   "outputs": [],
   "source": [
    "# XGBoost, bag-of-words + custom features\n",
    "create_xgboost_regressor = lambda: XGBRegressor(objective='count:poisson')"
   ]
  },
  {
   "cell_type": "code",
   "execution_count": 25,
   "metadata": {},
   "outputs": [
    {
     "name": "stdout",
     "output_type": "stream",
     "text": [
      "Fit vectorizer\n",
      "Created vectors\n",
      "Fit model\n",
      "R squared: -3265.4754\n",
      "R squared: -7451.0442\n"
     ]
    },
    {
     "data": {
      "image/png": "[encoded data removed]",
      "text/plain": [
       "<Figure size 432x288 with 1 Axes>"
      ]
     },
     "metadata": {
      "needs_background": "light"
     },
     "output_type": "display_data"
    }
   ],
   "source": [
    "run_regression(reviews_train, create_xgboost_regressor, bow_readability_vectorizer_fn)"
   ]
  },
  {
   "cell_type": "code",
   "execution_count": 27,
   "metadata": {},
   "outputs": [
    {
     "name": "stdout",
     "output_type": "stream",
     "text": [
      "Fit vectorizer\n",
      "Created vectors\n",
      "Fit model\n",
      "R squared: -101375978362777264908050785894400.0000\n",
      "R squared: -139240061841272051164863822561280.0000\n"
     ]
    },
    {
     "data": {
      "image/png": "[encoded data removed]",
      "text/plain": [
       "<Figure size 432x288 with 1 Axes>"
      ]
     },
     "metadata": {
      "needs_background": "light"
     },
     "output_type": "display_data"
    }
   ],
   "source": [
    "# weighted XGBoost, bag-of-words + custom features\n",
    "# Results in weird errors sometimes - it looks like the model predicts NaN values sometimes\n",
    "run_regression(reviews_train, create_xgboost_regressor, bow_readability_vectorizer_fn, weight_fn=weight_by_votes)"
   ]
  },
  {
   "cell_type": "code",
   "execution_count": 28,
   "metadata": {},
   "outputs": [
    {
     "name": "stdout",
     "output_type": "stream",
     "text": [
      "Fit vectorizer\n",
      "Created vectors\n"
     ]
    },
    {
     "name": "stderr",
     "output_type": "stream",
     "text": [
      "/Users/asra/anaconda3/lib/python3.6/site-packages/sklearn/ensemble/forest.py:248: FutureWarning: The default value of n_estimators will change from 10 in version 0.20 to 100 in 0.22.\n",
      "  \"10 in version 0.20 to 100 in 0.22.\", FutureWarning)\n"
     ]
    },
    {
     "name": "stdout",
     "output_type": "stream",
     "text": [
      "Fit model\n",
      "R squared: 0.8974\n",
      "R squared: 0.5003\n"
     ]
    },
    {
     "data": {
      "image/png": "[encoded data removed]",
      "text/plain": [
       "<Figure size 432x288 with 1 Axes>"
      ]
     },
     "metadata": {
      "needs_background": "light"
     },
     "output_type": "display_data"
    }
   ],
   "source": [
    "# Random Forest regression, bag-of-words + custom features\n",
    "run_regression(reviews_train, RandomForestRegressor, bow_readability_vectorizer_fn)"
   ]
  },
  {
   "cell_type": "code",
   "execution_count": 29,
   "metadata": {},
   "outputs": [
    {
     "name": "stdout",
     "output_type": "stream",
     "text": [
      "Fit vectorizer\n",
      "Created vectors\n"
     ]
    },
    {
     "name": "stderr",
     "output_type": "stream",
     "text": [
      "/Users/asra/anaconda3/lib/python3.6/site-packages/sklearn/ensemble/forest.py:248: FutureWarning: The default value of n_estimators will change from 10 in version 0.20 to 100 in 0.22.\n",
      "  \"10 in version 0.20 to 100 in 0.22.\", FutureWarning)\n"
     ]
    },
    {
     "name": "stdout",
     "output_type": "stream",
     "text": [
      "Fit model\n",
      "R squared: 0.9060\n",
      "R squared: 0.3831\n"
     ]
    },
    {
     "data": {
      "image/png": "[encoded data removed]",
      "text/plain": [
       "<Figure size 432x288 with 1 Axes>"
      ]
     },
     "metadata": {
      "needs_background": "light"
     },
     "output_type": "display_data"
    }
   ],
   "source": [
    "# weighted Random Forest regression, bag-of-words + custom features\n",
    "run_regression(reviews_train, RandomForestRegressor, bow_readability_vectorizer_fn, weight_fn=weight_by_votes)"
   ]
  },
  {
   "cell_type": "code",
   "execution_count": 30,
   "metadata": {},
   "outputs": [],
   "source": [
    "class StatsmodelRegressor(RegressorMixin):\n",
    "    def __init__(self, *args, **kwargs):\n",
    "        if args or kwargs:\n",
    "            print(f'WARNING: Ignoring {args}, {kwargs}')\n",
    "        self.model = None\n",
    "        self.params = None\n",
    "    \n",
    "    def _init_model(self, X, y):\n",
    "        raise NotImplementedError\n",
    "\n",
    "    def fit(self, X, y, *args, **kwargs):\n",
    "        if args or kwargs:\n",
    "            print(f'WARNING: Ignoring {args}, {kwargs}')\n",
    "        if issparse(X):\n",
    "            X = X.todense()\n",
    "        self.model = self._init_model(X, y)\n",
    "        self.params = self.model.fit(maxiter=100)\n",
    "        return self\n",
    "    \n",
    "    def predict(self, X):\n",
    "        if not self.model:\n",
    "            raise ValueError('Model needs to be fit first')\n",
    "        if issparse(X):\n",
    "            X = X.todense()\n",
    "        return self.model.predict(self.params.params, exog=X)\n",
    "\n",
    "\n",
    "class NegativeBinomialRegressor(StatsmodelRegressor):\n",
    "    \n",
    "    def _init_model(self, X, y):\n",
    "        return NegativeBinomial(y, X)\n",
    "\n",
    "\n",
    "class PoissonRegressor(StatsmodelRegressor):\n",
    "    \n",
    "    def _init_model(self, X, y):\n",
    "        return Poisson(y, X)"
   ]
  },
  {
   "cell_type": "code",
   "execution_count": null,
   "metadata": {},
   "outputs": [],
   "source": [
    "# Poisson regression, bag-of-words + custom features\n",
    "run_regression(reviews_train, PoissonRegressor, bow_readability_vectorizer_fn, num_train=2000, num_test=5000)"
   ]
  },
  {
   "cell_type": "code",
   "execution_count": null,
   "metadata": {},
   "outputs": [],
   "source": [
    "# Negative Binomial regression, bag-of-words + custom features\n",
    "run_regression(reviews_train, NegativeBinomialRegressor, bow_readability_vectorizer_fn, num_train=2000, num_test=5000)"
   ]
  },
  {
   "cell_type": "markdown",
   "metadata": {},
   "source": [
    "Both the above models didn't converge/crashed with bag-of-words features - possibly because of high dimensionality.\n",
    "So I decided to implement topic models next to reduce the feature dimensionality."
   ]
  },
  {
   "cell_type": "markdown",
   "metadata": {},
   "source": [
    "## Adding topics as features"
   ]
  },
  {
   "cell_type": "markdown",
   "metadata": {},
   "source": [
    "One challenge here is that training topic models is sloww. Thankfully, we don't necessarily need to train them on the entire 50k/40k/32k dataset. Training them on a few thousand reviews works well enough.\n",
    "\n",
    "Also, it's not THAT bad - we could train it on the entire 50k dataset in a few hours - maybe for the final run, we should do that."
   ]
  },
  {
   "cell_type": "code",
   "execution_count": 32,
   "metadata": {},
   "outputs": [],
   "source": [
    "from gensim.models.wrappers.ldamallet import LdaMallet\n",
    "from gensim.models import LdaModel, LsiModel\n",
    "from gensim.corpora import Dictionary\n",
    "mallet_path = '../mallet-2.0.8/bin/mallet'\n",
    "\n",
    "import re\n",
    "\n",
    "class Corpus():\n",
    "    def __init__(self, texts):\n",
    "        dictionary = Dictionary([self.text_to_tokens(text) for text in texts])\n",
    "        dictionary.filter_extremes(no_below=5, no_above=0.6)\n",
    "        self._dictionary = dictionary\n",
    "        self._texts = texts\n",
    "\n",
    "    def text_to_tokens(self, text):\n",
    "        return [w for w in re.split('\\W', text) if w]\n",
    "    \n",
    "    def doc2bow(self, text):\n",
    "        return self._dictionary.doc2bow(self.text_to_tokens(text))\n",
    "\n",
    "    def __iter__(self):\n",
    "        for text in self._texts:\n",
    "            yield self.doc2bow(text)\n",
    "\n",
    "\n",
    "class TopicModelVectorizer(TransformerMixin):\n",
    "    def __init__(self, model, corpus):\n",
    "        self._model = model\n",
    "        self._corpus = corpus\n",
    "\n",
    "    def fit(self, *args, **kwargs):\n",
    "        return self\n",
    "    \n",
    "    def transform(self, reviews):\n",
    "        all_reviews_topic_scores = self._model[\n",
    "            [self._corpus.doc2bow(review) for review in reviews.text.values]\n",
    "        ]\n",
    "        return np.array(\n",
    "            [\n",
    "                [tup[1] for tup in review_topic_scores]\n",
    "                for review_topic_scores in all_reviews_topic_scores\n",
    "            ])"
   ]
  },
  {
   "cell_type": "code",
   "execution_count": 33,
   "metadata": {},
   "outputs": [],
   "source": [
    "# To train new topic models\n",
    "# basically pass corpus a list of review texts, and then pass the corpus stuff to LdaMallet\n",
    "# you can also use the topic model i've already trained on some restaurant data below\n",
    "\n",
    "load_existing = True  # Set to False if you want to train a new one\n",
    "model_path = './models/restaurant_topics_100'\n",
    "\n",
    "def load_topic_model(model_path):\n",
    "    with open(model_path, 'rb') as f:\n",
    "        loaded = pickle.load(f)\n",
    "    return loaded['corpus'], loaded['topic_model']\n",
    "\n",
    "def save_model(model_path, corpus, topic_model):\n",
    "    with open(model_path, 'wb') as f:\n",
    "        pickle.dump({'corpus': corpus, 'topic_model': topic_model}, f)\n",
    "\n",
    "if load_existing:\n",
    "    corpus, topic_model = load_topic_model(model_path)\n",
    "else:\n",
    "    save_path = None  # Specify this if training a new model to save to that file\n",
    "    corpus = Corpus(reviews_train.text.values[:1000])\n",
    "    topic_model = LdaMallet(mallet_path, corpus=corpus, id2word=corpus._dictionary)\n",
    "    save_model(save_path, corpus, topic_model)"
   ]
  },
  {
   "cell_type": "code",
   "execution_count": 34,
   "metadata": {},
   "outputs": [],
   "source": [
    "#topic_model.print_topics(100)"
   ]
  },
  {
   "cell_type": "code",
   "execution_count": 35,
   "metadata": {},
   "outputs": [],
   "source": [
    "topic_and_readability_vectorizer_fn = lambda: FeatureUnion([\n",
    "    ('bow', TopicModelVectorizer(topic_model, corpus)),\n",
    "    ('custom', CustomFeatures()),\n",
    "])"
   ]
  },
  {
   "cell_type": "code",
   "execution_count": null,
   "metadata": {},
   "outputs": [],
   "source": [
    "# Linear regression, topics + custom features (length, stars, readability)\n",
    "run_regression(reviews_train, LinearRegression, topic_and_readability_vectorizer_fn, num_train=5000, num_test=1000)"
   ]
  },
  {
   "cell_type": "code",
   "execution_count": null,
   "metadata": {},
   "outputs": [],
   "source": [
    "# Random forest regression, topics + custom features (length, stars, readability)\n",
    "run_regression(reviews_train, RandomForestRegressor, topic_and_readability_vectorizer_fn, num_train=5000, num_test=1000)"
   ]
  },
  {
   "cell_type": "code",
   "execution_count": 70,
   "metadata": {},
   "outputs": [
    {
     "name": "stdout",
     "output_type": "stream",
     "text": [
      "Fit vectorizer\n",
      "Created vectors\n",
      "Fit model\n",
      "R squared: 0.6155\n",
      "R squared: 0.0375\n"
     ]
    },
    {
     "data": {
      "image/png": "[encoded data removed]",
      "text/plain": [
       "<Figure size 432x288 with 1 Axes>"
      ]
     },
     "metadata": {
      "needs_background": "light"
     },
     "output_type": "display_data"
    }
   ],
   "source": [
    "# XGB regression, topics + custom features (length, stars, readability)\n",
    "run_regression(reviews_train, XGBRegressor, topic_and_readability_vectorizer_fn, num_train=5000, num_test=1000)"
   ]
  },
  {
   "cell_type": "code",
   "execution_count": 75,
   "metadata": {},
   "outputs": [
    {
     "name": "stdout",
     "output_type": "stream",
     "text": [
      "Fit vectorizer\n",
      "Created vectors\n",
      "Optimization terminated successfully.\n",
      "         Current function value: 2.942423\n",
      "         Iterations 20\n",
      "Fit model\n",
      "R squared: 0.2637\n",
      "R squared: -0.7480\n"
     ]
    },
    {
     "data": {
      "image/png": "[encoded data removed]",
      "text/plain": [
       "<Figure size 432x288 with 1 Axes>"
      ]
     },
     "metadata": {
      "needs_background": "light"
     },
     "output_type": "display_data"
    }
   ],
   "source": [
    "# Poisson regression, topics + custom features (length, stars, readability)\n",
    "run_regression(reviews_train, PoissonRegressor, topic_and_readability_vectorizer_fn, num_train=5000, num_test=1000)"
   ]
  },
  {
   "cell_type": "code",
   "execution_count": 76,
   "metadata": {},
   "outputs": [
    {
     "name": "stdout",
     "output_type": "stream",
     "text": [
      "Fit vectorizer\n",
      "Created vectors\n"
     ]
    },
    {
     "name": "stderr",
     "output_type": "stream",
     "text": [
      "/home/jayant/miniconda3/envs/py_ml_hw1/lib/python3.6/site-packages/statsmodels/discrete/discrete_model.py:2468: RuntimeWarning:\n",
      "\n",
      "divide by zero encountered in log\n",
      "\n",
      "/home/jayant/miniconda3/envs/py_ml_hw1/lib/python3.6/site-packages/statsmodels/discrete/discrete_model.py:2560: RuntimeWarning:\n",
      "\n",
      "overflow encountered in multiply\n",
      "\n",
      "/home/jayant/miniconda3/envs/py_ml_hw1/lib/python3.6/site-packages/statsmodels/discrete/discrete_model.py:2560: RuntimeWarning:\n",
      "\n",
      "invalid value encountered in true_divide\n",
      "\n",
      "/home/jayant/miniconda3/envs/py_ml_hw1/lib/python3.6/site-packages/statsmodels/discrete/discrete_model.py:2563: RuntimeWarning:\n",
      "\n",
      "invalid value encountered in true_divide\n",
      "\n",
      "/home/jayant/miniconda3/envs/py_ml_hw1/lib/python3.6/site-packages/statsmodels/discrete/discrete_model.py:2468: RuntimeWarning:\n",
      "\n",
      "divide by zero encountered in log\n",
      "\n"
     ]
    },
    {
     "name": "stdout",
     "output_type": "stream",
     "text": [
      "Warning: Maximum number of iterations has been exceeded.\n",
      "         Current function value: 1.711540\n",
      "         Iterations: 100\n",
      "         Function evaluations: 124\n",
      "         Gradient evaluations: 114\n"
     ]
    },
    {
     "name": "stderr",
     "output_type": "stream",
     "text": [
      "/home/jayant/miniconda3/envs/py_ml_hw1/lib/python3.6/site-packages/statsmodels/base/model.py:508: ConvergenceWarning:\n",
      "\n",
      "Maximum Likelihood optimization failed to converge. Check mle_retvals\n",
      "\n"
     ]
    },
    {
     "name": "stdout",
     "output_type": "stream",
     "text": [
      "Fit model\n",
      "R squared: -2.2808\n",
      "R squared: -0.4374\n"
     ]
    },
    {
     "data": {
      "image/png": "[encoded data removed]",
      "text/plain": [
       "<Figure size 432x288 with 1 Axes>"
      ]
     },
     "metadata": {
      "needs_background": "light"
     },
     "output_type": "display_data"
    }
   ],
   "source": [
    "# Negative Binomial regression, topics + custom features (length, stars, readability)\n",
    "run_regression(reviews_train, NegativeBinomialRegressor, topic_and_readability_vectorizer_fn, num_train=5000, num_test=1000)"
   ]
  },
  {
   "cell_type": "markdown",
   "metadata": {},
   "source": [
    "End results - pretty meh. Out of ideas at this point. User features, maybe. And maybe following what Koustuv suggested on Piazza."
   ]
  },
  {
   "cell_type": "markdown",
   "metadata": {},
   "source": [
    "## Next Steps"
   ]
  },
  {
   "cell_type": "markdown",
   "metadata": {},
   "source": [
    "Not entirely sure - doesn't look like regression is working well."
   ]
  },
  {
   "cell_type": "markdown",
   "metadata": {},
   "source": [
    "I'd recommend we switch to classification right away if user features don't work well, run our experiments quickly, figure out feature importances and come up with results that we can explain and present."
   ]
  },
  {
   "cell_type": "markdown",
   "metadata": {},
   "source": [
    "Maybe we could split the tasks into the following (can be done in parallel: for example, we don't need to wait to see if user features help with regression, we can get started with classification right away) - \n",
    "- Include user and network features into regression model and see if it improves things\n",
    "- Implement the classification model pipeline, including feature importance\n",
    "- Look into SAGE for comparing features across business categories\n",
    "- Write code for creating data for different businesses and running the classification pipeline on each dataset\n",
    "- Try out what Koustuv suggested and see if it helps"
   ]
  }
 ],
 "metadata": {
  "kernelspec": {
   "display_name": "Python 3",
   "language": "python",
   "name": "python3"
  },
  "language_info": {
   "codemirror_mode": {
    "name": "ipython",
    "version": 3
   },
   "file_extension": ".py",
   "mimetype": "text/x-python",
   "name": "python",
   "nbconvert_exporter": "python",
   "pygments_lexer": "ipython3",
   "version": "3.6.6"
  }
 },
 "nbformat": 4,
 "nbformat_minor": 2
}
